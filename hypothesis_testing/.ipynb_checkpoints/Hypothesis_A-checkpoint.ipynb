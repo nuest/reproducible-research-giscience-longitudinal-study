{
 "cells": [
  {
   "cell_type": "markdown",
   "id": "0b5707fd-2dd2-4847-90a1-ced24012bfd5",
   "metadata": {},
   "source": [
    "# Hypothesis A\n",
    "There is no increase in the level of reproducibility of AGILE papers between pre- (2017, 2018, 2019) and post-intervention (2021, 2022, 2023) papers. \n",
    "\n",
    "Alternative hypothesis: The level of reproducibility has increased after the intervention\n",
    "\n",
    "Note: What is actually assessed is the level of potential reproducibility along the criteria mentioned in the assessment protocol. "
   ]
  },
  {
   "cell_type": "markdown",
   "id": "b7fecc26-d85f-4628-8d8a-fa02eb70e529",
   "metadata": {},
   "source": [
    "## Data preparation\n",
    "The available data is a CSV file. The relevant columns for this hypothesis are:\n",
    "\n",
    "- conf: \"agile\" or \"giscience\"\n",
    "- year: year of the conference\n",
    "- consolidated_cp: conceptual paper true/false\n",
    "- consolidated_data: data dimension in UDAO (undocumented, documented, available, open) scheme\n",
    "- consolidated_methods: methods dimension in UDAO scheme\n",
    "- consolidated_results: results dimension in UDAO scheme\n",
    "- consolidated_ce: computational environment true/false\n",
    "\n",
    "The necessary steps are:\n",
    "\n",
    "1. Filter conf for \"agile\"\n",
    "2. Create two groups: first group contains years 2017, 2018, and 2019, second group contains years 2021, 2022, 2023\n",
    "3. convert UDAO scheme into ranks 1 to 4 "
   ]
  },
  {
   "cell_type": "markdown",
   "id": "0f951cfa-ff30-45da-ae62-bd1891495866",
   "metadata": {},
   "source": [
    "## Data analysis\n",
    "We have\n",
    "\n",
    "- two independent groups (pre- and post-intervention) with unequal sample sizes\n",
    "- the data is ranked (i.e., a value of 4 is better than a value of 2, but not double)\n",
    "- the question is whether any one group has significantly higher or lower ranks than the other\n",
    "\n",
    "The suitable test is Mann-Whitney U (Wilcoxon rank-sum test) which\n",
    "\n",
    "- is non-parametric\n",
    "- compares sum of ranks between groups\n",
    "- suited for ordinal data\n",
    "- robust to different sample sizes"
   ]
  },
  {
   "cell_type": "code",
   "execution_count": null,
   "id": "3a1b0a70-b03f-46ac-b291-601be53a8cfb",
   "metadata": {},
   "outputs": [],
   "source": []
  }
 ],
 "metadata": {
  "kernelspec": {
   "display_name": "Python 3 (ipykernel)",
   "language": "python",
   "name": "python3"
  },
  "language_info": {
   "codemirror_mode": {
    "name": "ipython",
    "version": 3
   },
   "file_extension": ".py",
   "mimetype": "text/x-python",
   "name": "python",
   "nbconvert_exporter": "python",
   "pygments_lexer": "ipython3",
   "version": "3.13.3"
  }
 },
 "nbformat": 4,
 "nbformat_minor": 5
}
